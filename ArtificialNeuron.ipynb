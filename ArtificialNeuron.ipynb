{
 "cells": [
  {
   "cell_type": "code",
   "execution_count": 32,
   "id": "b8c1b3b2",
   "metadata": {},
   "outputs": [],
   "source": [
    "import numpy as np \n",
    "import matplotlib.pyplot as plt \n",
    "from sklearn.datasets import make_blobs \n",
    "from sklearn.metrics import accuracy_score"
   ]
  },
  {
   "cell_type": "code",
   "execution_count": 33,
   "id": "4be5ea4d",
   "metadata": {},
   "outputs": [
    {
     "name": "stdout",
     "output_type": "stream",
     "text": [
      "[[ 4.21850347  2.23419161]\n",
      " [ 0.90779887  0.45984362]\n",
      " [-0.27652528  5.08127768]\n",
      " [ 0.08848433  2.32299086]\n",
      " [ 3.24329731  1.21460627]\n",
      " [ 1.44193252  2.76754364]\n",
      " [ 1.0220286   4.11660348]\n",
      " [ 3.97820955  2.37817845]\n",
      " [ 0.58894326  4.00148458]\n",
      " [ 1.25185786  0.20811388]\n",
      " [ 0.62835793  4.4601363 ]\n",
      " [ 1.68608568  0.65828448]\n",
      " [ 1.18454506  5.28042636]\n",
      " [ 0.06897171  4.35573272]\n",
      " [ 1.78726415  1.70012006]\n",
      " [ 4.4384123   1.84214315]\n",
      " [ 3.18190344 -0.18226785]\n",
      " [ 0.30380963  3.94423417]\n",
      " [ 0.73936011  0.43607906]\n",
      " [ 1.28535145  1.43691285]\n",
      " [ 1.1312175   4.68194985]\n",
      " [ 0.66471755  4.35995267]\n",
      " [ 1.31570453  2.44067826]\n",
      " [-0.18887976  5.20461381]\n",
      " [ 2.57854418  0.72611733]\n",
      " [ 0.87305123  4.71438583]\n",
      " [ 1.3105127   0.07122512]\n",
      " [ 0.9867701   6.08965782]\n",
      " [ 1.42013331  4.63746165]\n",
      " [ 2.3535057   2.22404956]\n",
      " [ 2.43169305 -0.20173713]\n",
      " [ 1.0427873   4.60625923]\n",
      " [ 0.95088418  0.94982874]\n",
      " [ 2.45127423 -0.19539785]\n",
      " [ 1.62011397  2.74692739]\n",
      " [ 2.15504965  4.12386249]\n",
      " [ 1.38093486  0.92949422]\n",
      " [ 1.98702592  2.61100638]\n",
      " [ 2.11567076  3.06896151]\n",
      " [ 0.56400993  1.33705536]\n",
      " [-0.07228289  2.88376939]\n",
      " [ 2.50904929  5.7731461 ]\n",
      " [-0.73000011  6.25456272]\n",
      " [ 1.37861172  3.61897724]\n",
      " [ 0.88214412  2.84128485]\n",
      " [ 2.22194102  1.5326951 ]\n",
      " [ 2.0159847  -0.27042984]\n",
      " [ 1.70127361 -0.47728763]\n",
      " [-0.65392827  4.76656958]\n",
      " [ 0.57309313  5.5262324 ]\n",
      " [ 1.956815    0.23418537]\n",
      " [ 0.76241061  1.16471453]\n",
      " [ 2.46452227  6.1996765 ]\n",
      " [ 1.33263648  5.0103605 ]\n",
      " [ 3.2460247   2.84942165]\n",
      " [ 1.10318217  4.70577669]\n",
      " [ 2.85942078  2.95602827]\n",
      " [ 1.59973502  0.91514282]\n",
      " [ 2.97612635  1.21639131]\n",
      " [ 2.68049897 -0.704394  ]\n",
      " [ 1.41942144  1.57409695]\n",
      " [ 1.9263585   4.15243012]\n",
      " [-0.09448254  5.35823905]\n",
      " [ 2.72756228  1.3051255 ]\n",
      " [ 1.12031365  5.75806083]\n",
      " [ 1.55723507  2.82719571]\n",
      " [ 0.10547293  3.72493766]\n",
      " [ 2.84382807  3.32650945]\n",
      " [ 3.15492712  1.55292739]\n",
      " [ 1.84070628  3.56162231]\n",
      " [ 1.28933778  3.44969159]\n",
      " [ 1.64164854  0.15020885]\n",
      " [ 3.92282648  1.80370832]\n",
      " [ 1.70536064  4.43277024]\n",
      " [ 0.1631238   2.57750473]\n",
      " [ 0.34194798  3.94104616]\n",
      " [ 1.02102468  1.57925818]\n",
      " [ 2.66934689  1.81987033]\n",
      " [ 0.4666179   3.86571303]\n",
      " [ 0.94808785  4.7321192 ]\n",
      " [ 1.19404184  2.80772861]\n",
      " [ 1.15369622  3.90200639]\n",
      " [-0.29421492  5.27318404]\n",
      " [ 1.7373078   4.42546234]\n",
      " [ 0.46546494  3.12315514]\n",
      " [ 0.08080352  4.69068983]\n",
      " [ 3.00251949  0.74265357]\n",
      " [ 2.20656076  5.50616718]\n",
      " [ 1.36069966  0.74802912]\n",
      " [ 2.63185834  0.6893649 ]\n",
      " [ 2.82705807  1.72116781]\n",
      " [ 2.91209813  0.24663807]\n",
      " [ 1.1424453   2.01467995]\n",
      " [ 1.05505217 -0.64710744]\n",
      " [ 2.47034915  4.09862906]\n",
      " [-1.57671974  4.95740592]\n",
      " [ 1.41164912 -1.32573949]\n",
      " [ 3.00468833  0.9852149 ]\n",
      " [-0.63762777  4.09104705]\n",
      " [ 0.829832    1.74202664]]\n",
      "100\n",
      "(2,)\n",
      "[[1]\n",
      " [1]\n",
      " [0]\n",
      " [0]\n",
      " [1]\n",
      " [0]\n",
      " [0]\n",
      " [1]\n",
      " [0]\n",
      " [1]\n",
      " [0]\n",
      " [1]\n",
      " [0]\n",
      " [0]\n",
      " [1]\n",
      " [1]\n",
      " [1]\n",
      " [0]\n",
      " [1]\n",
      " [1]\n",
      " [0]\n",
      " [0]\n",
      " [1]\n",
      " [0]\n",
      " [1]\n",
      " [0]\n",
      " [1]\n",
      " [0]\n",
      " [0]\n",
      " [1]\n",
      " [1]\n",
      " [0]\n",
      " [1]\n",
      " [1]\n",
      " [1]\n",
      " [0]\n",
      " [1]\n",
      " [1]\n",
      " [0]\n",
      " [1]\n",
      " [0]\n",
      " [0]\n",
      " [0]\n",
      " [0]\n",
      " [1]\n",
      " [1]\n",
      " [1]\n",
      " [1]\n",
      " [0]\n",
      " [0]\n",
      " [1]\n",
      " [1]\n",
      " [0]\n",
      " [0]\n",
      " [0]\n",
      " [0]\n",
      " [0]\n",
      " [1]\n",
      " [1]\n",
      " [1]\n",
      " [1]\n",
      " [0]\n",
      " [0]\n",
      " [1]\n",
      " [0]\n",
      " [1]\n",
      " [0]\n",
      " [0]\n",
      " [1]\n",
      " [0]\n",
      " [0]\n",
      " [1]\n",
      " [1]\n",
      " [0]\n",
      " [0]\n",
      " [0]\n",
      " [1]\n",
      " [1]\n",
      " [0]\n",
      " [0]\n",
      " [1]\n",
      " [0]\n",
      " [0]\n",
      " [0]\n",
      " [0]\n",
      " [0]\n",
      " [1]\n",
      " [0]\n",
      " [1]\n",
      " [1]\n",
      " [1]\n",
      " [1]\n",
      " [1]\n",
      " [1]\n",
      " [0]\n",
      " [0]\n",
      " [1]\n",
      " [1]\n",
      " [0]\n",
      " [1]]\n",
      "(100, 2)\n",
      "(100, 1)\n"
     ]
    },
    {
     "data": {
      "text/plain": [
       "<function matplotlib.pyplot.show(close=None, block=None)>"
      ]
     },
     "execution_count": 33,
     "metadata": {},
     "output_type": "execute_result"
    },
    {
     "data": {
      "image/png": "[encoded data removed]",
      "text/plain": [
       "<Figure size 432x288 with 1 Axes>"
      ]
     },
     "metadata": {
      "needs_background": "light"
     },
     "output_type": "display_data"
    }
   ],
   "source": [
    "X, y = make_blobs(n_samples=100, n_features=2, centers=2, random_state=0)\n",
    "y = y.reshape((y.shape[0],1))\n",
    "print(X)\n",
    "print(X.shape[0])\n",
    "print(X[0].shape)\n",
    "print(y)\n",
    "print(X.shape)\n",
    "print(y.shape)\n",
    "plt.scatter(X[:, 0],X[:, 1],c=y , cmap ='summer')\n",
    "plt.show"
   ]
  },
  {
   "cell_type": "code",
   "execution_count": 34,
   "id": "8c998a73",
   "metadata": {},
   "outputs": [],
   "source": [
    "#take a parameters X and return W,b \n",
    "def Initialisation(X):\n",
    "    W = np.random.rand(X.shape[1],1)\n",
    "    b = np.random.rand(1)\n",
    "    return (W,b) "
   ]
  },
  {
   "cell_type": "code",
   "execution_count": 35,
   "id": "9fb9363a",
   "metadata": {},
   "outputs": [],
   "source": [
    "def Model(X,W,b):\n",
    "    Z = X.dot(W) + b \n",
    "    A = 1/(1+np.exp(-Z))\n",
    "    return A"
   ]
  },
  {
   "cell_type": "code",
   "execution_count": 36,
   "id": "e7320a18",
   "metadata": {},
   "outputs": [],
   "source": [
    "def Cost(A,y):\n",
    "    return (1 / len(y)) * np.sum(-y * np.log(A) - (1-y) * np.log(1-A))                  "
   ]
  },
  {
   "cell_type": "code",
   "execution_count": 37,
   "id": "094e13cf",
   "metadata": {},
   "outputs": [],
   "source": [
    "def gradients(A, X, y):\n",
    "    m=len(y)\n",
    "    dW= 1/m * np.dot(X.T, A-y) \n",
    "    db= 1/m * np.sum(A-y)\n",
    "    return (dW,db) \n",
    "    "
   ]
  },
  {
   "cell_type": "code",
   "execution_count": 38,
   "id": "f2aeab1a",
   "metadata": {},
   "outputs": [],
   "source": [
    "def Update(W,b,dW,db, learning_rate):\n",
    "    W = W - learning_rate*dW\n",
    "    b = b - learning_rate*db\n",
    "    return (W,b)"
   ]
  },
  {
   "cell_type": "code",
   "execution_count": 39,
   "id": "b272a6b4",
   "metadata": {},
   "outputs": [],
   "source": [
    "def predict(X, W, b):\n",
    "    A = Model(X, W, b)\n",
    "    return A >= 0.5"
   ]
  },
  {
   "cell_type": "code",
   "execution_count": 40,
   "id": "0f4181e7",
   "metadata": {},
   "outputs": [],
   "source": [
    "def artificial_neuron(X, y, learning_rate=0.1 ,n_iter =100):\n",
    "    W,b = Initialisation(X)\n",
    "    Loss=[]\n",
    "    for i in range(n_iter): \n",
    "        A = Model(X,W,b)\n",
    "        Loss.append(Cost(A,y))\n",
    "        dW ,db = gradients(A, X, y)\n",
    "        W, b = Update(W,b,dW,db, learning_rate)\n",
    "    y_pred = predict(X,W,b)\n",
    "    print(accuracy_score(y,y_pred))\n",
    "    plt.plot(Loss)\n",
    "    plt.show()\n",
    "    \n",
    "    return (W, b)"
   ]
  },
  {
   "cell_type": "raw",
   "id": "88194945",
   "metadata": {},
   "source": []
  },
  {
   "cell_type": "code",
   "execution_count": 41,
   "id": "9c8d0ee9",
   "metadata": {},
   "outputs": [
    {
     "name": "stdout",
     "output_type": "stream",
     "text": [
      "0.89\n"
     ]
    },
    {
     "data": {
      "image/png": "[encoded data removed]",
      "text/plain": [
       "<Figure size 432x288 with 1 Axes>"
      ]
     },
     "metadata": {
      "needs_background": "light"
     },
     "output_type": "display_data"
    }
   ],
   "source": [
    "W, b=artificial_neuron(X, y, n_iter=100)"
   ]
  },
  {
   "cell_type": "code",
   "execution_count": 42,
   "id": "a0ea2a08",
   "metadata": {},
   "outputs": [
    {
     "data": {
      "text/plain": [
       "(array([[ 1.19623047],\n",
       "        [-1.00864249]]),\n",
       " array([0.46906306]))"
      ]
     },
     "execution_count": 42,
     "metadata": {},
     "output_type": "execute_result"
    }
   ],
   "source": [
    "W, b"
   ]
  },
  {
   "cell_type": "code",
   "execution_count": 43,
   "id": "27575c84",
   "metadata": {},
   "outputs": [
    {
     "data": {
      "image/png": "[encoded data removed]",
      "text/plain": [
       "<Figure size 432x288 with 1 Axes>"
      ]
     },
     "metadata": {
      "needs_background": "light"
     },
     "output_type": "display_data"
    }
   ],
   "source": [
    "x0 = np.linspace(-1,4,100)\n",
    "x1 = (-W[0]*x0 - b)/W[1]\n",
    "\n",
    "new_plant = np.array([2, 2.9])\n",
    "plt.scatter(X[:, 0],X[:, 1],c=y , cmap ='summer')\n",
    "plt.scatter(new_plant[0], new_plant[1] , c='r' )\n",
    "plt.plot(x0, x1,c='orange', lw=3)\n",
    "plt.show()\n"
   ]
  },
  {
   "cell_type": "code",
   "execution_count": 44,
   "id": "5e37786d",
   "metadata": {},
   "outputs": [
    {
     "data": {
      "text/plain": [
       "array([False])"
      ]
     },
     "execution_count": 44,
     "metadata": {},
     "output_type": "execute_result"
    }
   ],
   "source": [
    "predict(new_plant, W, b)"
   ]
  },
  {
   "cell_type": "code",
   "execution_count": 45,
   "id": "868e6360",
   "metadata": {},
   "outputs": [
    {
     "name": "stdout",
     "output_type": "stream",
     "text": [
      "[[ 1.19623047]\n",
      " [-1.00864249]]\n",
      "[1.19623047]\n"
     ]
    }
   ],
   "source": [
    "print(W)\n",
    "print(W[0])"
   ]
  },
  {
   "cell_type": "code",
   "execution_count": 46,
   "id": "97f87f1a",
   "metadata": {},
   "outputs": [
    {
     "data": {
      "text/plain": [
       "0.89"
      ]
     },
     "execution_count": 46,
     "metadata": {},
     "output_type": "execute_result"
    }
   ],
   "source": [
    "1- 11/100"
   ]
  }
 ],
 "metadata": {
  "kernelspec": {
   "display_name": "Python 3 (ipykernel)",
   "language": "python",
   "name": "python3"
  },
  "language_info": {
   "codemirror_mode": {
    "name": "ipython",
    "version": 3
   },
   "file_extension": ".py",
   "mimetype": "text/x-python",
   "name": "python",
   "nbconvert_exporter": "python",
   "pygments_lexer": "ipython3",
   "version": "3.9.12"
  }
 },
 "nbformat": 4,
 "nbformat_minor": 5
}
